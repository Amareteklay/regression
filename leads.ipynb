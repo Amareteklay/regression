{
  "cells": [
    {
      "cell_type": "markdown",
      "metadata": {},
      "source": [
        "# Leads Scope Analysis\n",
        "\n",
        "Run the model averaging pipeline per scope and review the selected scope's outputs."
      ]
    },
    {
      "cell_type": "code",
      "execution_count": null,
      "metadata": {},
      "outputs": [],
      "source": "from pathlib import Path\n\nimport pandas as pd\nfrom IPython.display import SVG, display\n\nfrom analysis.model_analysis import run_scope_analyses"
    },
    {
      "cell_type": "code",
      "execution_count": null,
      "metadata": {},
      "outputs": [],
      "source": "project_root = Path.cwd()\ndata_path = project_root / 'data' / 'leads.csv'\noutput_base = project_root / 'outputs/leads'\nscope_name = 'global'  # change to another scope as needed\n\npd.set_option('display.max_rows', 25)\npd.set_option('display.max_columns', 20)\nprint(f'Data: {data_path}')\nprint(f'Output base: {output_base}')\nprint(f'Selected scope: {scope_name}')"
    },
    {
      "cell_type": "code",
      "execution_count": null,
      "metadata": {},
      "outputs": [],
      "source": "scope_results = run_scope_analyses(data_path, output_base)\navailable_scopes = sorted(scope_results.keys())\nprint('Available scopes:', ', '.join(available_scopes))\nif scope_name not in scope_results:\n    raise ValueError(f'Scope {{scope_name}} not found; choose one of {{available_scopes}}')\nscope_result = scope_results[scope_name]\nprint(f\"Models analyzed for {{scope_name}}: {{scope_result['model_count']}}\")"
    },
    {
      "cell_type": "markdown",
      "metadata": {},
      "source": [
        "## Model weights"
      ]
    },
    {
      "cell_type": "code",
      "execution_count": null,
      "metadata": {},
      "outputs": [],
      "source": "model_weights = pd.DataFrame(scope_result['model_rows'])\nmodel_weights.head(20)"
    },
    {
      "cell_type": "markdown",
      "metadata": {},
      "source": [
        "## Model-averaged coefficients"
      ]
    },
    {
      "cell_type": "code",
      "execution_count": null,
      "metadata": {},
      "outputs": [],
      "source": "coef_summary = pd.DataFrame(scope_result['coefficient_summary'])\ncoef_summary"
    },
    {
      "cell_type": "markdown",
      "metadata": {},
      "source": [
        "## Predictor importance"
      ]
    },
    {
      "cell_type": "code",
      "execution_count": null,
      "metadata": {},
      "outputs": [],
      "source": "importance = pd.DataFrame(scope_result['importance'])\nimportance"
    },
    {
      "cell_type": "markdown",
      "metadata": {},
      "source": [
        "## Scope/DV summary"
      ]
    },
    {
      "cell_type": "code",
      "execution_count": null,
      "metadata": {},
      "outputs": [],
      "source": "scope_summary = pd.DataFrame(scope_result['scope_summary'])\nscope_summary"
    },
    {
      "cell_type": "markdown",
      "metadata": {},
      "source": [
        "## Visualisations"
      ]
    },
    {
      "cell_type": "code",
      "execution_count": null,
      "metadata": {},
      "outputs": [],
      "source": "output_paths = scope_result['outputs']\nif output_paths['top_model_weights_svg'] and output_paths['top_model_weights_svg'].exists():\n    display(SVG(output_paths['top_model_weights_svg'].read_text()))\n\nif output_paths['weighted_coefficients_svg'] and output_paths['weighted_coefficients_svg'].exists():\n    display(SVG(output_paths['weighted_coefficients_svg'].read_text()))\n\nif output_paths['predictor_importance_svg'] and output_paths['predictor_importance_svg'].exists():\n    display(SVG(output_paths['predictor_importance_svg'].read_text()))"
    }
  ],
  "metadata": {
    "kernelspec": {
      "display_name": "Python 3",
      "language": "python",
      "name": "python3"
    },
    "language_info": {
      "name": "python",
      "version": "3.10"
    }
  },
  "nbformat": 4,
  "nbformat_minor": 5
}