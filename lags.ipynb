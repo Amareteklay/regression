{
  "cells": [
    {
      "cell_type": "markdown",
      "id": "cd7df95d",
      "metadata": {},
      "source": [
        "# Lags Scope Analysis\n",
        "\n",
        "Run the model averaging pipeline per scope and review the selected scope's outputs."
      ]
    },
    {
      "cell_type": "code",
      "execution_count": null,
      "id": "7f7e8a9f",
      "metadata": {},
      "outputs": [],
      "source": [
        "from pathlib import Path\n",
        "\n",
        "import pandas as pd\n",
        "from IPython.display import SVG, display\n",
        "\n",
        "from analysis.model_analysis import run_scope_analyses"
      ]
    },
    {
      "cell_type": "code",
      "execution_count": null,
      "id": "c075e898",
      "metadata": {},
      "outputs": [],
      "source": [
        "project_root = Path.cwd()\n",
        "data_path = project_root / 'data' / 'lags.csv'\n",
        "output_base = project_root / 'outputs/lags'\n",
        "scope_name = 'global'  # change to another scope as needed\n",
        "\n",
        "pd.set_option('display.max_rows', 25)\n",
        "pd.set_option('display.max_columns', 20)\n",
        "print(f'Data: {data_path}')\n",
        "print(f'Output base: {output_base}')\n",
        "print(f'Selected scope: {scope_name}')"
      ]
    },
    {
      "cell_type": "code",
      "execution_count": null,
      "id": "d9a2daa6",
      "metadata": {},
      "outputs": [],
      "source": [
        "scope_results = run_scope_analyses(data_path, output_base)\n",
        "available_scopes = sorted(scope_results.keys())\n",
        "print('Available scopes:', ', '.join(available_scopes))\n",
        "if scope_name not in scope_results:\n",
        "    raise ValueError(f'Scope {{scope_name}} not found; choose one of {{available_scopes}}')\n",
        "scope_result = scope_results[scope_name]\n",
        "print(f\"Models analyzed for {{scope_name}}: {{scope_result['model_count']}}\")"
      ]
    },
    {
      "cell_type": "markdown",
      "id": "d6ff8123",
      "metadata": {},
      "source": [
        "## Model weights"
      ]
    },
    {
      "cell_type": "code",
      "execution_count": null,
      "id": "da10f914",
      "metadata": {},
      "outputs": [],
      "source": [
        "model_weights = pd.DataFrame(scope_result['model_rows'])\n",
        "model_weights.head(20)"
      ]
    },
    {
      "cell_type": "markdown",
      "id": "80d360a0",
      "metadata": {},
      "source": [
        "## Model-averaged coefficients"
      ]
    },
    {
      "cell_type": "code",
      "execution_count": null,
      "id": "bca19773",
      "metadata": {},
      "outputs": [],
      "source": [
        "coef_summary = pd.DataFrame(scope_result['coefficient_summary'])\n",
        "coef_summary"
      ]
    },
    {
      "cell_type": "markdown",
      "id": "6829cb8d",
      "metadata": {},
      "source": [
        "## Predictor importance"
      ]
    },
    {
      "cell_type": "code",
      "execution_count": null,
      "id": "3a31c424",
      "metadata": {},
      "outputs": [],
      "source": [
        "importance = pd.DataFrame(scope_result['importance'])\n",
        "importance"
      ]
    },
    {
      "cell_type": "markdown",
      "id": "88961013",
      "metadata": {},
      "source": [
        "## Scope/DV summary"
      ]
    },
    {
      "cell_type": "code",
      "execution_count": null,
      "id": "180bba0e",
      "metadata": {},
      "outputs": [],
      "source": [
        "scope_summary = pd.DataFrame(scope_result['scope_summary'])\n",
        "scope_summary"
      ]
    },
    {
      "cell_type": "markdown",
      "id": "9ac13428",
      "metadata": {},
      "source": [
        "## Visualisations"
      ]
    },
    {
      "cell_type": "code",
      "execution_count": null,
      "id": "3a8199dd",
      "metadata": {},
      "outputs": [],
      "source": [
        "output_paths = scope_result['outputs']\n",
        "if output_paths['top_model_weights_svg'] and output_paths['top_model_weights_svg'].exists():\n",
        "    display(SVG(output_paths['top_model_weights_svg'].read_text()))\n",
        "\n",
        "if output_paths['weighted_coefficients_svg'] and output_paths['weighted_coefficients_svg'].exists():\n",
        "    display(SVG(output_paths['weighted_coefficients_svg'].read_text()))\n",
        "\n",
        "if output_paths['predictor_importance_svg'] and output_paths['predictor_importance_svg'].exists():\n",
        "    display(SVG(output_paths['predictor_importance_svg'].read_text()))"
      ]
    }
  ],
  "metadata": {
    "kernelspec": {
      "display_name": "Python 3",
      "language": "python",
      "name": "python3"
    },
    "language_info": {
      "name": "python",
      "version": "3.10"
    }
  },
  "nbformat": 4,
  "nbformat_minor": 5
}
